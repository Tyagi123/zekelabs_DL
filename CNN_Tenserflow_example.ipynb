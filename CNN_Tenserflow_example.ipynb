{
 "cells": [
  {
   "cell_type": "code",
   "execution_count": 3,
   "metadata": {},
   "outputs": [],
   "source": [
    "import tensorflow as tf;\n",
    "import sklearn.datasets;\n",
    "iris_ds = sklearn.datasets.load_iris(return_X_y=False)\n",
    "import pandas as pd"
   ]
  },
  {
   "cell_type": "code",
   "execution_count": 4,
   "metadata": {},
   "outputs": [
    {
     "data": {
      "text/plain": [
       "array([0, 0, 0, 0, 0, 0, 0, 0, 0, 0, 0, 0, 0, 0, 0, 0, 0, 0, 0, 0, 0, 0,\n",
       "       0, 0, 0, 0, 0, 0, 0, 0, 0, 0, 0, 0, 0, 0, 0, 0, 0, 0, 0, 0, 0, 0,\n",
       "       0, 0, 0, 0, 0, 0, 1, 1, 1, 1, 1, 1, 1, 1, 1, 1, 1, 1, 1, 1, 1, 1,\n",
       "       1, 1, 1, 1, 1, 1, 1, 1, 1, 1, 1, 1, 1, 1, 1, 1, 1, 1, 1, 1, 1, 1,\n",
       "       1, 1, 1, 1, 1, 1, 1, 1, 1, 1, 1, 1, 2, 2, 2, 2, 2, 2, 2, 2, 2, 2,\n",
       "       2, 2, 2, 2, 2, 2, 2, 2, 2, 2, 2, 2, 2, 2, 2, 2, 2, 2, 2, 2, 2, 2,\n",
       "       2, 2, 2, 2, 2, 2, 2, 2, 2, 2, 2, 2, 2, 2, 2, 2, 2, 2])"
      ]
     },
     "execution_count": 4,
     "metadata": {},
     "output_type": "execute_result"
    }
   ],
   "source": [
    "iris_ds.target\n"
   ]
  },
  {
   "cell_type": "code",
   "execution_count": 5,
   "metadata": {},
   "outputs": [],
   "source": [
    "import numpy as np\n",
    "iris_data = pd.DataFrame(data=iris_ds.data,columns=iris_ds.feature_names)"
   ]
  },
  {
   "cell_type": "code",
   "execution_count": 6,
   "metadata": {},
   "outputs": [
    {
     "data": {
      "text/html": [
       "<div>\n",
       "<style scoped>\n",
       "    .dataframe tbody tr th:only-of-type {\n",
       "        vertical-align: middle;\n",
       "    }\n",
       "\n",
       "    .dataframe tbody tr th {\n",
       "        vertical-align: top;\n",
       "    }\n",
       "\n",
       "    .dataframe thead th {\n",
       "        text-align: right;\n",
       "    }\n",
       "</style>\n",
       "<table border=\"1\" class=\"dataframe\">\n",
       "  <thead>\n",
       "    <tr style=\"text-align: right;\">\n",
       "      <th></th>\n",
       "      <th>sepal length (cm)</th>\n",
       "      <th>sepal width (cm)</th>\n",
       "      <th>petal length (cm)</th>\n",
       "      <th>petal width (cm)</th>\n",
       "    </tr>\n",
       "  </thead>\n",
       "  <tbody>\n",
       "    <tr>\n",
       "      <th>0</th>\n",
       "      <td>5.1</td>\n",
       "      <td>3.5</td>\n",
       "      <td>1.4</td>\n",
       "      <td>0.2</td>\n",
       "    </tr>\n",
       "    <tr>\n",
       "      <th>1</th>\n",
       "      <td>4.9</td>\n",
       "      <td>3.0</td>\n",
       "      <td>1.4</td>\n",
       "      <td>0.2</td>\n",
       "    </tr>\n",
       "    <tr>\n",
       "      <th>2</th>\n",
       "      <td>4.7</td>\n",
       "      <td>3.2</td>\n",
       "      <td>1.3</td>\n",
       "      <td>0.2</td>\n",
       "    </tr>\n",
       "    <tr>\n",
       "      <th>3</th>\n",
       "      <td>4.6</td>\n",
       "      <td>3.1</td>\n",
       "      <td>1.5</td>\n",
       "      <td>0.2</td>\n",
       "    </tr>\n",
       "    <tr>\n",
       "      <th>4</th>\n",
       "      <td>5.0</td>\n",
       "      <td>3.6</td>\n",
       "      <td>1.4</td>\n",
       "      <td>0.2</td>\n",
       "    </tr>\n",
       "  </tbody>\n",
       "</table>\n",
       "</div>"
      ],
      "text/plain": [
       "   sepal length (cm)  sepal width (cm)  petal length (cm)  petal width (cm)\n",
       "0                5.1               3.5                1.4               0.2\n",
       "1                4.9               3.0                1.4               0.2\n",
       "2                4.7               3.2                1.3               0.2\n",
       "3                4.6               3.1                1.5               0.2\n",
       "4                5.0               3.6                1.4               0.2"
      ]
     },
     "execution_count": 6,
     "metadata": {},
     "output_type": "execute_result"
    }
   ],
   "source": [
    "\n",
    "iris_data.head()"
   ]
  },
  {
   "cell_type": "code",
   "execution_count": 7,
   "metadata": {},
   "outputs": [],
   "source": [
    "from sklearn.model_selection import train_test_split\n"
   ]
  },
  {
   "cell_type": "code",
   "execution_count": 8,
   "metadata": {},
   "outputs": [],
   "source": [
    "import sklearn;\n",
    "min_max_scaler = sklearn.preprocessing.MinMaxScaler()\n",
    "scaled_data = min_max_scaler.fit_transform(iris_data)"
   ]
  },
  {
   "cell_type": "code",
   "execution_count": 9,
   "metadata": {},
   "outputs": [
    {
     "name": "stderr",
     "output_type": "stream",
     "text": [
      "/Users/gauravtyagi/anaconda3/lib/python2.7/site-packages/sklearn/preprocessing/_encoders.py:331: DeprecationWarning: Passing 'n_values' is deprecated in version 0.20 and will be removed in 0.22. You can use the 'categories' keyword instead. 'n_values=n' corresponds to 'categories=[range(n)]'.\n",
      "  warnings.warn(msg, DeprecationWarning)\n"
     ]
    }
   ],
   "source": [
    "from sklearn.preprocessing import OneHotEncoder\n",
    "encoder = OneHotEncoder(3)\n",
    "label = encoder.fit_transform(iris_ds.target.reshape(-1,1))\n",
    "label = label.todense()"
   ]
  },
  {
   "cell_type": "code",
   "execution_count": 10,
   "metadata": {},
   "outputs": [],
   "source": [
    "trainx,testx,trainy,testy = train_test_split(scaled_data,label)\n"
   ]
  },
  {
   "cell_type": "code",
   "execution_count": 11,
   "metadata": {},
   "outputs": [
    {
     "name": "stdout",
     "output_type": "stream",
     "text": [
      "(38, 4)\n"
     ]
    }
   ],
   "source": [
    "print (testx.shape)\n"
   ]
  },
  {
   "cell_type": "code",
   "execution_count": 12,
   "metadata": {},
   "outputs": [],
   "source": [
    "import tensorflow as tf;\n",
    "x = tf.placeholder(shape=[None,4],dtype=tf.float32)\n",
    "y = tf.placeholder(shape=[None,3],dtype=tf.float32)\n",
    "w0 = tf.get_variable('w0',shape=[4,5],dtype=tf.float32)\n",
    "w1 = tf.get_variable('w1',shape=[5,3],dtype=tf.float32)\n",
    "b0 = tf.get_variable('b0',shape=[1,5],dtype=tf.float32)\n",
    "b1 = tf.get_variable('b1',shape=[1,3],dtype=tf.float32)"
   ]
  },
  {
   "cell_type": "code",
   "execution_count": 13,
   "metadata": {},
   "outputs": [],
   "source": [
    "def build_model(x):\n",
    "    with tf.name_scope('hidden'):\n",
    "        h = tf.nn.relu(tf.matmul(x,w0)+b0)\n",
    "        print (h.shape)\n",
    "    with tf.name_scope('output'):\n",
    "        yhat = tf.nn.softmax(tf.matmul(h,w1)+b1)\n",
    "        print (yhat.shape)\n",
    "    return yhat"
   ]
  },
  {
   "cell_type": "code",
   "execution_count": 14,
   "metadata": {},
   "outputs": [
    {
     "name": "stdout",
     "output_type": "stream",
     "text": [
      "(?, 5)\n",
      "(?, 3)\n"
     ]
    }
   ],
   "source": [
    "y_hat = build_model(x)"
   ]
  },
  {
   "cell_type": "code",
   "execution_count": 15,
   "metadata": {},
   "outputs": [],
   "source": [
    "\n",
    "with tf.name_scope('accuracy'):\n",
    "    accuracy = tf.reduce_mean(tf.cast(tf.equal(tf.argmax(y,1),tf.argmax(y_hat,1)),tf.float64))\n",
    "    tf.summary.scalar('accuracy',accuracy)"
   ]
  },
  {
   "cell_type": "code",
   "execution_count": 16,
   "metadata": {},
   "outputs": [],
   "source": [
    "with tf.name_scope('entropy-loss'):\n",
    "    entropy_loss = tf.losses.softmax_cross_entropy(logits=y_hat,onehot_labels=y)\n",
    "    tf.summary.scalar('entropy-loss',entropy_loss)"
   ]
  },
  {
   "cell_type": "code",
   "execution_count": 17,
   "metadata": {},
   "outputs": [],
   "source": [
    "writer = tf.summary.FileWriter('nn',tf.get_default_graph())\n"
   ]
  },
  {
   "cell_type": "code",
   "execution_count": 18,
   "metadata": {},
   "outputs": [
    {
     "name": "stdout",
     "output_type": "stream",
     "text": [
      "loss=0.551616, train accuracy=0.678571, test accuracy = 0.631579\n",
      "loss=0.551446, train accuracy=0.678571, test accuracy = 0.631579\n",
      "loss=0.551445, train accuracy=0.678571, test accuracy = 0.631579\n",
      "loss=0.551445, train accuracy=0.678571, test accuracy = 0.631579\n",
      "loss=0.551445, train accuracy=0.678571, test accuracy = 0.631579\n",
      "loss=0.551445, train accuracy=0.678571, test accuracy = 0.631579\n",
      "loss=0.551445, train accuracy=0.678571, test accuracy = 0.631579\n",
      "loss=0.551445, train accuracy=0.678571, test accuracy = 0.631579\n",
      "loss=0.551445, train accuracy=0.678571, test accuracy = 0.631579\n",
      "loss=0.551445, train accuracy=0.678571, test accuracy = 0.631579\n",
      "loss=0.551445, train accuracy=0.678571, test accuracy = 0.631579\n",
      "loss=0.551445, train accuracy=0.678571, test accuracy = 0.631579\n",
      "loss=0.551445, train accuracy=0.678571, test accuracy = 0.631579\n",
      "loss=0.551445, train accuracy=0.678571, test accuracy = 0.631579\n",
      "loss=0.551445, train accuracy=0.678571, test accuracy = 0.631579\n",
      "loss=0.551445, train accuracy=0.678571, test accuracy = 0.631579\n",
      "loss=0.551445, train accuracy=0.678571, test accuracy = 0.631579\n",
      "loss=0.551445, train accuracy=0.678571, test accuracy = 0.631579\n",
      "loss=0.551445, train accuracy=0.678571, test accuracy = 0.631579\n",
      "loss=0.551445, train accuracy=0.678571, test accuracy = 0.631579\n",
      "loss=0.551445, train accuracy=0.678571, test accuracy = 0.631579\n",
      "loss=0.551445, train accuracy=0.678571, test accuracy = 0.631579\n",
      "loss=0.551445, train accuracy=0.678571, test accuracy = 0.631579\n",
      "loss=0.551445, train accuracy=0.678571, test accuracy = 0.631579\n",
      "loss=0.551445, train accuracy=0.678571, test accuracy = 0.631579\n",
      "loss=0.551445, train accuracy=0.678571, test accuracy = 0.631579\n",
      "loss=0.551445, train accuracy=0.678571, test accuracy = 0.631579\n",
      "loss=0.551445, train accuracy=0.678571, test accuracy = 0.631579\n",
      "loss=0.551445, train accuracy=0.678571, test accuracy = 0.631579\n",
      "loss=0.551445, train accuracy=0.678571, test accuracy = 0.631579\n",
      "loss=0.551445, train accuracy=0.678571, test accuracy = 0.631579\n",
      "loss=0.551445, train accuracy=0.678571, test accuracy = 0.631579\n",
      "loss=0.551445, train accuracy=0.678571, test accuracy = 0.631579\n",
      "loss=0.551445, train accuracy=0.678571, test accuracy = 0.631579\n",
      "loss=0.551445, train accuracy=0.678571, test accuracy = 0.631579\n",
      "loss=0.551445, train accuracy=0.678571, test accuracy = 0.631579\n",
      "loss=0.551445, train accuracy=0.678571, test accuracy = 0.631579\n",
      "loss=0.551445, train accuracy=0.678571, test accuracy = 0.631579\n",
      "loss=0.551445, train accuracy=0.678571, test accuracy = 0.631579\n",
      "loss=0.551445, train accuracy=0.678571, test accuracy = 0.631579\n",
      "loss=0.551445, train accuracy=0.678571, test accuracy = 0.631579\n",
      "loss=0.551445, train accuracy=0.678571, test accuracy = 0.631579\n",
      "loss=0.551445, train accuracy=0.678571, test accuracy = 0.631579\n",
      "loss=0.551445, train accuracy=0.678571, test accuracy = 0.631579\n",
      "loss=0.551445, train accuracy=0.678571, test accuracy = 0.631579\n",
      "loss=0.551445, train accuracy=0.678571, test accuracy = 0.631579\n",
      "loss=0.551445, train accuracy=0.678571, test accuracy = 0.631579\n",
      "loss=0.551445, train accuracy=0.678571, test accuracy = 0.631579\n",
      "loss=0.551445, train accuracy=0.678571, test accuracy = 0.631579\n",
      "loss=0.551445, train accuracy=0.678571, test accuracy = 0.631579\n",
      "loss=0.551445, train accuracy=0.678571, test accuracy = 0.631579\n",
      "loss=0.551445, train accuracy=0.678571, test accuracy = 0.631579\n",
      "loss=0.551445, train accuracy=0.678571, test accuracy = 0.631579\n",
      "loss=0.551445, train accuracy=0.678571, test accuracy = 0.631579\n",
      "loss=0.551445, train accuracy=0.678571, test accuracy = 0.631579\n",
      "loss=0.551445, train accuracy=0.678571, test accuracy = 0.631579\n",
      "loss=0.551445, train accuracy=0.678571, test accuracy = 0.631579\n",
      "loss=0.551445, train accuracy=0.678571, test accuracy = 0.631579\n",
      "loss=0.551445, train accuracy=0.678571, test accuracy = 0.631579\n",
      "loss=0.551445, train accuracy=0.678571, test accuracy = 0.631579\n",
      "loss=0.565379, train accuracy=0.955357, test accuracy = 0.947368\n",
      "loss=0.552170, train accuracy=0.812500, test accuracy = 0.842105\n",
      "loss=0.551762, train accuracy=0.955357, test accuracy = 0.973684\n",
      "loss=0.551588, train accuracy=0.875000, test accuracy = 0.921053\n",
      "loss=0.551613, train accuracy=0.964286, test accuracy = 0.973684\n",
      "loss=0.551557, train accuracy=0.964286, test accuracy = 0.947368\n",
      "loss=0.551596, train accuracy=0.973214, test accuracy = 0.973684\n",
      "loss=0.551485, train accuracy=0.973214, test accuracy = 0.973684\n",
      "loss=0.551476, train accuracy=0.758929, test accuracy = 0.763158\n",
      "loss=0.551445, train accuracy=0.982143, test accuracy = 0.973684\n",
      "loss=0.551446, train accuracy=0.982143, test accuracy = 0.973684\n",
      "loss=0.551541, train accuracy=0.892857, test accuracy = 0.921053\n",
      "loss=0.551460, train accuracy=0.982143, test accuracy = 0.973684\n",
      "loss=0.551457, train accuracy=0.982143, test accuracy = 0.973684\n",
      "loss=0.551455, train accuracy=0.964286, test accuracy = 0.973684\n",
      "loss=0.551448, train accuracy=0.973214, test accuracy = 0.973684\n",
      "loss=0.551450, train accuracy=0.919643, test accuracy = 0.947368\n",
      "loss=0.551450, train accuracy=0.892857, test accuracy = 0.921053\n",
      "loss=0.553784, train accuracy=0.875000, test accuracy = 0.921053\n",
      "loss=0.551452, train accuracy=0.973214, test accuracy = 0.973684\n",
      "loss=0.551454, train accuracy=0.982143, test accuracy = 0.973684\n",
      "loss=0.551449, train accuracy=0.973214, test accuracy = 0.973684\n",
      "loss=0.551447, train accuracy=0.982143, test accuracy = 0.973684\n",
      "loss=0.551455, train accuracy=0.964286, test accuracy = 0.947368\n",
      "loss=0.551450, train accuracy=0.982143, test accuracy = 0.973684\n",
      "loss=0.551479, train accuracy=0.964286, test accuracy = 0.973684\n",
      "loss=0.551463, train accuracy=0.973214, test accuracy = 0.973684\n",
      "loss=0.551451, train accuracy=0.973214, test accuracy = 0.973684\n",
      "loss=0.551451, train accuracy=0.794643, test accuracy = 0.789474\n",
      "loss=0.551448, train accuracy=0.973214, test accuracy = 0.973684\n",
      "loss=0.551447, train accuracy=0.964286, test accuracy = 0.973684\n",
      "loss=0.551445, train accuracy=0.964286, test accuracy = 0.973684\n",
      "loss=0.551445, train accuracy=0.964286, test accuracy = 0.973684\n",
      "loss=0.551445, train accuracy=0.964286, test accuracy = 0.973684\n",
      "loss=0.551445, train accuracy=0.964286, test accuracy = 0.973684\n",
      "loss=0.551445, train accuracy=0.964286, test accuracy = 0.973684\n",
      "loss=0.551445, train accuracy=0.964286, test accuracy = 0.973684\n",
      "loss=0.551445, train accuracy=0.964286, test accuracy = 0.973684\n",
      "loss=0.551445, train accuracy=0.964286, test accuracy = 0.973684\n",
      "loss=0.551445, train accuracy=0.964286, test accuracy = 0.973684\n",
      "loss=0.551445, train accuracy=0.964286, test accuracy = 0.973684\n",
      "loss=0.551445, train accuracy=0.892857, test accuracy = 0.947368\n",
      "loss=0.551445, train accuracy=0.803571, test accuracy = 0.842105\n",
      "loss=0.551445, train accuracy=0.973214, test accuracy = 0.973684\n",
      "loss=0.551445, train accuracy=0.982143, test accuracy = 0.973684\n",
      "loss=0.551445, train accuracy=0.982143, test accuracy = 0.973684\n",
      "loss=0.551445, train accuracy=0.982143, test accuracy = 0.973684\n",
      "loss=0.551445, train accuracy=0.982143, test accuracy = 0.973684\n",
      "loss=0.551445, train accuracy=0.750000, test accuracy = 0.684211\n",
      "loss=0.551445, train accuracy=0.758929, test accuracy = 0.736842\n",
      "loss=0.551445, train accuracy=0.758929, test accuracy = 0.736842\n",
      "loss=0.551445, train accuracy=0.758929, test accuracy = 0.736842\n",
      "loss=0.551445, train accuracy=0.758929, test accuracy = 0.736842\n",
      "loss=0.551445, train accuracy=0.758929, test accuracy = 0.763158\n",
      "loss=0.551445, train accuracy=0.758929, test accuracy = 0.763158\n",
      "loss=0.551445, train accuracy=0.758929, test accuracy = 0.763158\n",
      "loss=0.551445, train accuracy=0.758929, test accuracy = 0.763158\n",
      "loss=0.551445, train accuracy=0.758929, test accuracy = 0.763158\n",
      "loss=0.551445, train accuracy=0.758929, test accuracy = 0.763158\n",
      "loss=0.551445, train accuracy=0.758929, test accuracy = 0.763158\n",
      "loss=0.723024, train accuracy=0.678571, test accuracy = 0.631579\n",
      "loss=0.582609, train accuracy=0.955357, test accuracy = 1.000000\n",
      "loss=0.573159, train accuracy=0.973214, test accuracy = 1.000000\n",
      "loss=0.564035, train accuracy=0.973214, test accuracy = 1.000000\n",
      "loss=0.559402, train accuracy=0.964286, test accuracy = 1.000000\n",
      "loss=0.556705, train accuracy=0.964286, test accuracy = 1.000000\n",
      "loss=0.555139, train accuracy=0.964286, test accuracy = 0.973684\n"
     ]
    },
    {
     "name": "stdout",
     "output_type": "stream",
     "text": [
      "loss=0.554189, train accuracy=0.964286, test accuracy = 0.973684\n",
      "loss=0.553578, train accuracy=0.982143, test accuracy = 0.973684\n",
      "loss=0.553151, train accuracy=0.982143, test accuracy = 0.973684\n",
      "loss=0.552826, train accuracy=0.982143, test accuracy = 0.973684\n",
      "loss=0.552563, train accuracy=0.982143, test accuracy = 0.973684\n",
      "loss=0.552347, train accuracy=0.982143, test accuracy = 0.973684\n",
      "loss=0.552171, train accuracy=0.982143, test accuracy = 0.973684\n",
      "loss=0.552027, train accuracy=0.982143, test accuracy = 0.973684\n",
      "loss=0.551914, train accuracy=0.982143, test accuracy = 0.973684\n",
      "loss=0.551824, train accuracy=0.982143, test accuracy = 0.973684\n",
      "loss=0.551750, train accuracy=0.982143, test accuracy = 0.973684\n",
      "loss=0.551693, train accuracy=0.982143, test accuracy = 0.973684\n",
      "loss=0.551646, train accuracy=0.982143, test accuracy = 0.973684\n",
      "loss=0.551609, train accuracy=0.982143, test accuracy = 0.973684\n",
      "loss=0.551578, train accuracy=0.982143, test accuracy = 0.973684\n",
      "loss=0.551554, train accuracy=0.982143, test accuracy = 0.973684\n",
      "loss=0.551534, train accuracy=0.982143, test accuracy = 0.973684\n",
      "loss=0.551518, train accuracy=0.982143, test accuracy = 0.973684\n",
      "loss=0.551504, train accuracy=0.982143, test accuracy = 0.973684\n",
      "loss=0.551494, train accuracy=0.982143, test accuracy = 0.973684\n",
      "loss=0.551485, train accuracy=0.982143, test accuracy = 0.973684\n",
      "loss=0.551478, train accuracy=0.982143, test accuracy = 0.973684\n",
      "loss=0.551472, train accuracy=0.982143, test accuracy = 0.973684\n",
      "loss=0.551468, train accuracy=0.982143, test accuracy = 0.973684\n",
      "loss=0.551464, train accuracy=0.982143, test accuracy = 0.973684\n",
      "loss=0.551461, train accuracy=0.982143, test accuracy = 0.973684\n",
      "loss=0.551458, train accuracy=0.982143, test accuracy = 0.973684\n",
      "loss=0.551456, train accuracy=0.982143, test accuracy = 0.973684\n",
      "loss=0.551454, train accuracy=0.982143, test accuracy = 0.973684\n",
      "loss=0.551453, train accuracy=0.982143, test accuracy = 0.973684\n",
      "loss=0.551451, train accuracy=0.982143, test accuracy = 0.973684\n",
      "loss=0.551450, train accuracy=0.982143, test accuracy = 0.973684\n",
      "loss=0.551449, train accuracy=0.982143, test accuracy = 0.973684\n",
      "loss=0.551449, train accuracy=0.982143, test accuracy = 0.973684\n",
      "loss=0.551448, train accuracy=0.982143, test accuracy = 0.973684\n",
      "loss=0.551448, train accuracy=0.982143, test accuracy = 0.973684\n",
      "loss=0.551447, train accuracy=0.982143, test accuracy = 0.973684\n",
      "loss=0.551447, train accuracy=0.982143, test accuracy = 0.973684\n",
      "loss=0.551446, train accuracy=0.982143, test accuracy = 0.973684\n",
      "loss=0.551446, train accuracy=0.982143, test accuracy = 0.973684\n",
      "loss=0.551446, train accuracy=0.982143, test accuracy = 0.973684\n",
      "loss=0.551446, train accuracy=0.982143, test accuracy = 0.973684\n",
      "loss=0.551446, train accuracy=0.982143, test accuracy = 0.973684\n",
      "loss=0.551445, train accuracy=0.982143, test accuracy = 0.973684\n",
      "loss=0.551445, train accuracy=0.982143, test accuracy = 0.973684\n",
      "loss=0.551445, train accuracy=0.982143, test accuracy = 0.973684\n",
      "loss=0.551445, train accuracy=0.982143, test accuracy = 0.973684\n",
      "loss=0.551445, train accuracy=0.982143, test accuracy = 0.973684\n",
      "loss=0.551445, train accuracy=0.982143, test accuracy = 0.973684\n",
      "loss=0.551445, train accuracy=0.982143, test accuracy = 0.973684\n",
      "loss=0.551445, train accuracy=0.982143, test accuracy = 0.973684\n",
      "loss=0.551445, train accuracy=0.982143, test accuracy = 0.973684\n",
      "loss=0.551445, train accuracy=0.982143, test accuracy = 0.973684\n",
      "loss=1.156040, train accuracy=0.321429, test accuracy = 0.368421\n",
      "loss=0.565408, train accuracy=0.678571, test accuracy = 0.631579\n",
      "loss=0.558031, train accuracy=0.928571, test accuracy = 0.947368\n",
      "loss=0.556620, train accuracy=0.946429, test accuracy = 0.947368\n",
      "loss=0.554686, train accuracy=0.955357, test accuracy = 1.000000\n",
      "loss=0.553518, train accuracy=0.964286, test accuracy = 1.000000\n",
      "loss=0.552837, train accuracy=0.964286, test accuracy = 1.000000\n",
      "loss=0.552416, train accuracy=0.964286, test accuracy = 1.000000\n",
      "loss=0.552138, train accuracy=0.964286, test accuracy = 1.000000\n",
      "loss=0.551950, train accuracy=0.964286, test accuracy = 1.000000\n",
      "loss=0.551819, train accuracy=0.973214, test accuracy = 1.000000\n",
      "loss=0.551726, train accuracy=0.973214, test accuracy = 0.947368\n",
      "loss=0.551659, train accuracy=0.973214, test accuracy = 0.947368\n",
      "loss=0.551609, train accuracy=0.982143, test accuracy = 0.947368\n",
      "loss=0.551571, train accuracy=0.982143, test accuracy = 0.947368\n",
      "loss=0.551543, train accuracy=0.982143, test accuracy = 0.947368\n",
      "loss=0.551522, train accuracy=0.982143, test accuracy = 0.947368\n",
      "loss=0.551506, train accuracy=0.982143, test accuracy = 0.947368\n",
      "loss=0.551494, train accuracy=0.982143, test accuracy = 0.947368\n",
      "loss=0.551484, train accuracy=0.982143, test accuracy = 0.947368\n",
      "loss=0.551476, train accuracy=0.982143, test accuracy = 0.947368\n",
      "loss=0.551470, train accuracy=0.982143, test accuracy = 0.947368\n",
      "loss=0.551466, train accuracy=0.982143, test accuracy = 0.947368\n",
      "loss=0.551462, train accuracy=0.982143, test accuracy = 0.947368\n",
      "loss=0.551459, train accuracy=0.973214, test accuracy = 0.947368\n",
      "loss=0.551456, train accuracy=0.973214, test accuracy = 0.947368\n",
      "loss=0.551454, train accuracy=0.973214, test accuracy = 0.973684\n",
      "loss=0.551452, train accuracy=0.973214, test accuracy = 0.973684\n",
      "loss=0.551451, train accuracy=0.973214, test accuracy = 0.973684\n",
      "loss=0.551450, train accuracy=0.973214, test accuracy = 0.973684\n",
      "loss=0.551449, train accuracy=0.973214, test accuracy = 0.973684\n",
      "loss=0.551448, train accuracy=0.973214, test accuracy = 0.973684\n",
      "loss=0.551448, train accuracy=0.973214, test accuracy = 0.973684\n",
      "loss=0.551447, train accuracy=0.973214, test accuracy = 0.973684\n",
      "loss=0.551446, train accuracy=0.973214, test accuracy = 0.973684\n",
      "loss=0.551446, train accuracy=0.973214, test accuracy = 0.973684\n",
      "loss=0.551446, train accuracy=0.973214, test accuracy = 0.973684\n",
      "loss=0.551446, train accuracy=0.973214, test accuracy = 0.973684\n",
      "loss=0.551445, train accuracy=0.973214, test accuracy = 0.973684\n",
      "loss=0.551445, train accuracy=0.973214, test accuracy = 0.973684\n",
      "loss=0.551445, train accuracy=0.982143, test accuracy = 0.973684\n",
      "loss=0.551445, train accuracy=0.982143, test accuracy = 0.973684\n",
      "loss=0.551445, train accuracy=0.982143, test accuracy = 0.973684\n",
      "loss=0.551445, train accuracy=0.982143, test accuracy = 0.973684\n",
      "loss=0.551445, train accuracy=0.982143, test accuracy = 0.973684\n",
      "loss=0.551445, train accuracy=0.982143, test accuracy = 0.973684\n",
      "loss=0.551445, train accuracy=0.982143, test accuracy = 0.973684\n",
      "loss=0.551445, train accuracy=0.982143, test accuracy = 0.973684\n",
      "loss=0.551445, train accuracy=0.982143, test accuracy = 0.973684\n",
      "loss=0.551445, train accuracy=0.982143, test accuracy = 0.973684\n",
      "loss=0.551445, train accuracy=0.982143, test accuracy = 0.973684\n",
      "loss=0.551445, train accuracy=0.982143, test accuracy = 0.973684\n",
      "loss=0.551445, train accuracy=0.982143, test accuracy = 0.973684\n",
      "loss=0.551445, train accuracy=0.982143, test accuracy = 0.973684\n",
      "loss=0.551445, train accuracy=0.982143, test accuracy = 0.973684\n",
      "loss=0.551445, train accuracy=0.982143, test accuracy = 0.973684\n",
      "loss=0.551445, train accuracy=0.982143, test accuracy = 0.973684\n",
      "loss=0.551445, train accuracy=0.982143, test accuracy = 0.973684\n",
      "loss=0.551445, train accuracy=0.982143, test accuracy = 0.973684\n",
      "loss=0.551445, train accuracy=0.982143, test accuracy = 0.973684\n",
      "loss=0.884755, train accuracy=0.357143, test accuracy = 0.263158\n",
      "loss=0.726788, train accuracy=0.357143, test accuracy = 0.263158\n",
      "loss=0.621405, train accuracy=0.633929, test accuracy = 0.500000\n",
      "loss=0.584108, train accuracy=0.678571, test accuracy = 0.631579\n",
      "loss=0.568193, train accuracy=0.678571, test accuracy = 0.631579\n",
      "loss=0.561106, train accuracy=0.678571, test accuracy = 0.631579\n",
      "loss=0.557357, train accuracy=0.678571, test accuracy = 0.631579\n",
      "loss=0.555238, train accuracy=0.678571, test accuracy = 0.631579\n",
      "loss=0.553839, train accuracy=0.678571, test accuracy = 0.631579\n",
      "loss=0.552980, train accuracy=0.830357, test accuracy = 0.894737\n",
      "loss=0.552461, train accuracy=0.857143, test accuracy = 0.921053\n",
      "loss=0.552106, train accuracy=0.875000, test accuracy = 0.947368\n",
      "loss=0.551875, train accuracy=0.883929, test accuracy = 0.947368\n",
      "loss=0.551725, train accuracy=0.883929, test accuracy = 0.947368\n"
     ]
    },
    {
     "name": "stdout",
     "output_type": "stream",
     "text": [
      "loss=0.551627, train accuracy=0.928571, test accuracy = 0.947368\n",
      "loss=0.551567, train accuracy=0.937500, test accuracy = 0.947368\n",
      "loss=0.551527, train accuracy=0.937500, test accuracy = 0.947368\n",
      "loss=0.551500, train accuracy=0.946429, test accuracy = 0.947368\n",
      "loss=0.551484, train accuracy=0.946429, test accuracy = 0.947368\n",
      "loss=0.551471, train accuracy=0.946429, test accuracy = 0.947368\n",
      "loss=0.551463, train accuracy=0.946429, test accuracy = 0.947368\n",
      "loss=0.551458, train accuracy=0.946429, test accuracy = 0.947368\n",
      "loss=0.551454, train accuracy=0.946429, test accuracy = 0.973684\n",
      "loss=0.551451, train accuracy=0.946429, test accuracy = 0.973684\n",
      "loss=0.551449, train accuracy=0.946429, test accuracy = 0.973684\n",
      "loss=0.551448, train accuracy=0.955357, test accuracy = 0.973684\n",
      "loss=0.551447, train accuracy=0.964286, test accuracy = 0.973684\n",
      "loss=0.551446, train accuracy=0.964286, test accuracy = 0.973684\n",
      "loss=0.551446, train accuracy=0.964286, test accuracy = 0.973684\n",
      "loss=0.551445, train accuracy=0.964286, test accuracy = 0.973684\n",
      "loss=0.551446, train accuracy=0.946429, test accuracy = 0.973684\n",
      "loss=0.551447, train accuracy=0.946429, test accuracy = 0.973684\n",
      "loss=0.551448, train accuracy=0.955357, test accuracy = 0.973684\n",
      "loss=0.551448, train accuracy=0.955357, test accuracy = 0.973684\n",
      "loss=0.551447, train accuracy=0.955357, test accuracy = 0.973684\n",
      "loss=0.551447, train accuracy=0.955357, test accuracy = 0.973684\n",
      "loss=0.551447, train accuracy=0.955357, test accuracy = 0.973684\n",
      "loss=0.551447, train accuracy=0.955357, test accuracy = 0.973684\n",
      "loss=0.551446, train accuracy=0.955357, test accuracy = 0.973684\n",
      "loss=0.551446, train accuracy=0.955357, test accuracy = 0.973684\n",
      "loss=0.551446, train accuracy=0.955357, test accuracy = 0.973684\n",
      "loss=0.551446, train accuracy=0.955357, test accuracy = 0.973684\n",
      "loss=0.551446, train accuracy=0.955357, test accuracy = 1.000000\n",
      "loss=0.551445, train accuracy=0.955357, test accuracy = 1.000000\n",
      "loss=0.551445, train accuracy=0.955357, test accuracy = 1.000000\n",
      "loss=0.551445, train accuracy=0.955357, test accuracy = 1.000000\n",
      "loss=0.551445, train accuracy=0.955357, test accuracy = 1.000000\n",
      "loss=0.551445, train accuracy=0.955357, test accuracy = 1.000000\n",
      "loss=0.551445, train accuracy=0.955357, test accuracy = 1.000000\n",
      "loss=0.551445, train accuracy=0.955357, test accuracy = 1.000000\n",
      "loss=0.551445, train accuracy=0.955357, test accuracy = 1.000000\n",
      "loss=0.551445, train accuracy=0.955357, test accuracy = 0.973684\n",
      "loss=0.551445, train accuracy=0.955357, test accuracy = 0.947368\n",
      "loss=0.551445, train accuracy=0.955357, test accuracy = 0.947368\n",
      "loss=0.551445, train accuracy=0.955357, test accuracy = 0.947368\n",
      "loss=0.551445, train accuracy=0.955357, test accuracy = 0.947368\n",
      "loss=0.551445, train accuracy=0.955357, test accuracy = 0.947368\n",
      "loss=0.551445, train accuracy=0.955357, test accuracy = 0.947368\n",
      "loss=0.551445, train accuracy=0.955357, test accuracy = 0.947368\n",
      "loss=0.551445, train accuracy=0.955357, test accuracy = 0.947368\n"
     ]
    }
   ],
   "source": [
    "for lr in [0.1,0.05,0.01,0.005,0.001]:\n",
    "    writer1 = tf.summary.FileWriter('nn/lr-'+str(lr))\n",
    "    with tf.name_scope('optimizer'):\n",
    "        optimizer = tf.train.AdamOptimizer(learning_rate=lr).minimize(entropy_loss)\n",
    "        merged = tf.summary.merge_all()\n",
    "    with tf.Session() as sess :\n",
    "        sess.run(tf.global_variables_initializer())\n",
    "        #sess.run(tf.local_variables_initializer())\n",
    "        for j in range(300):\n",
    "            for i in range(len(trainx)):\n",
    "                x_val = np.array(trainx[i].reshape(1,-1),dtype=np.float32)\n",
    "                y_val = np.array(trainy[i].reshape(1,-1),dtype=np.float32)\n",
    "                #print (i,x_val,y_val)\n",
    "                #print (x_val.dtype,'\\n',y_val.dtype)\n",
    "                optimizer.run(feed_dict={x:x_val,y:y_val})\n",
    "                _loss, = sess.run([entropy_loss] ,feed_dict={x:x_val,y:y_val})\n",
    "                #print ('yhat,y',_y_hat,y_val)\n",
    "                #print ('accuracy',_acc)\n",
    "            if(j%5==0):\n",
    "                summary,_train_acc = sess.run([merged,accuracy],feed_dict={x:trainx,y:trainy})\n",
    "                writer1.add_summary(summary,j)\n",
    "                _test_acc = sess.run(accuracy,feed_dict={x:testx,y:testy})\n",
    "                print ('loss=%2.6f, train accuracy=%2.6f, test accuracy = %2.6f'%(_loss,_train_acc,_test_acc))"
   ]
  },
  {
   "cell_type": "code",
   "execution_count": 19,
   "metadata": {},
   "outputs": [
    {
     "name": "stdout",
     "output_type": "stream",
     "text": [
      "myscope/const1:0\n"
     ]
    }
   ],
   "source": [
    "with tf.name_scope('myscope'):\n",
    "    a = tf.constant(name='const1',value=3)\n",
    "print (a.name)"
   ]
  },
  {
   "cell_type": "code",
   "execution_count": null,
   "metadata": {},
   "outputs": [],
   "source": []
  }
 ],
 "metadata": {
  "kernelspec": {
   "display_name": "Python 2",
   "language": "python",
   "name": "python2"
  },
  "language_info": {
   "codemirror_mode": {
    "name": "ipython",
    "version": 2
   },
   "file_extension": ".py",
   "mimetype": "text/x-python",
   "name": "python",
   "nbconvert_exporter": "python",
   "pygments_lexer": "ipython2",
   "version": "2.7.15"
  }
 },
 "nbformat": 4,
 "nbformat_minor": 2
}
