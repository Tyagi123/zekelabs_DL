{
 "cells": [
  {
   "cell_type": "code",
   "execution_count": 1,
   "metadata": {},
   "outputs": [],
   "source": [
    "import tensorflow as tf"
   ]
  },
  {
   "cell_type": "code",
   "execution_count": 2,
   "metadata": {},
   "outputs": [],
   "source": [
    "var= tf.Variable(5)"
   ]
  },
  {
   "cell_type": "code",
   "execution_count": 3,
   "metadata": {},
   "outputs": [
    {
     "name": "stdout",
     "output_type": "stream",
     "text": [
      "name: \"Variable\"\n",
      "op: \"VariableV2\"\n",
      "attr {\n",
      "  key: \"container\"\n",
      "  value {\n",
      "    s: \"\"\n",
      "  }\n",
      "}\n",
      "attr {\n",
      "  key: \"dtype\"\n",
      "  value {\n",
      "    type: DT_INT32\n",
      "  }\n",
      "}\n",
      "attr {\n",
      "  key: \"shape\"\n",
      "  value {\n",
      "    shape {\n",
      "    }\n",
      "  }\n",
      "}\n",
      "attr {\n",
      "  key: \"shared_name\"\n",
      "  value {\n",
      "    s: \"\"\n",
      "  }\n",
      "}\n",
      "\n"
     ]
    }
   ],
   "source": [
    "print(var.op)"
   ]
  },
  {
   "cell_type": "code",
   "execution_count": 4,
   "metadata": {},
   "outputs": [],
   "source": [
    "a=tf.constant(5)\n",
    "b=tf.placeholder(tf.float32)"
   ]
  },
  {
   "cell_type": "code",
   "execution_count": 5,
   "metadata": {},
   "outputs": [
    {
     "name": "stdout",
     "output_type": "stream",
     "text": [
      "<tf.Variable 'Variable:0' shape=() dtype=int32_ref>\n",
      "5\n"
     ]
    }
   ],
   "source": [
    "# we need to intialize variable once before using it , intialize will assign value to variable\n",
    "with tf.Session() as s:\n",
    "    s.run(var.initializer)\n",
    "    print(var)\n",
    "    print(s.run(var))"
   ]
  },
  {
   "cell_type": "code",
   "execution_count": 6,
   "metadata": {},
   "outputs": [],
   "source": [
    "#other way to create variables and you can not intialize same variable again\n",
    "v0=tf.get_variable(name=\"v0\",shape=(),dtype=tf.float32,initializer=tf.zeros_initializer())\n",
    "v1=tf.get_variable(name=\"v1\",shape=(),dtype=tf.float32,initializer=tf.ones_initializer())\n",
    "v2=tf.get_variable(name=\"v2\",shape=(),dtype=tf.float32,initializer=tf.random_uniform_initializer())"
   ]
  },
  {
   "cell_type": "code",
   "execution_count": 7,
   "metadata": {},
   "outputs": [],
   "source": [
    "v5=tf.get_variable(name=\"v5\",shape=(),dtype=tf.float32,initializer=tf.random_uniform_initializer())"
   ]
  },
  {
   "cell_type": "code",
   "execution_count": 8,
   "metadata": {},
   "outputs": [
    {
     "name": "stdout",
     "output_type": "stream",
     "text": [
      "[0.0, 1.0, 0.3636682]\n",
      "[0.0, 1.0, 0.094768405]\n",
      "[0.0, 1.0, 0.9010261]\n",
      "[0.0, 1.0, 0.5542631]\n",
      "[0.0, 1.0, 0.5825896]\n",
      "[0.0, 1.0, 0.7330073]\n",
      "[0.0, 1.0, 0.934186]\n",
      "[0.0, 1.0, 0.14285064]\n",
      "[0.0, 1.0, 0.7559116]\n",
      "[0.0, 1.0, 0.57606304]\n"
     ]
    }
   ],
   "source": [
    "with tf.Session() as s:\n",
    "    for i in range(10):\n",
    "       s.run(v0.initializer)\n",
    "       v1.initializer.run() # other way to intialize variable\n",
    "       v5.initializer.run()\n",
    "       print(s.run([v0,v1,v5])) # values would  be change for v0,v1,v5 because they intialize everytime in new iteration "
   ]
  },
  {
   "cell_type": "code",
   "execution_count": 9,
   "metadata": {},
   "outputs": [
    {
     "name": "stdout",
     "output_type": "stream",
     "text": [
      "[0.0, 1.0, 0.9164219]\n",
      "[0.0, 1.0, 0.9164219]\n",
      "[0.0, 1.0, 0.9164219]\n",
      "[0.0, 1.0, 0.9164219]\n",
      "[0.0, 1.0, 0.9164219]\n",
      "[0.0, 1.0, 0.9164219]\n",
      "[0.0, 1.0, 0.9164219]\n",
      "[0.0, 1.0, 0.9164219]\n",
      "[0.0, 1.0, 0.9164219]\n",
      "[0.0, 1.0, 0.9164219]\n"
     ]
    }
   ],
   "source": [
    "with tf.Session() as s:\n",
    "    v5.initializer.run()   # value would not be change for v5 because it is intialize once\n",
    "    for i in range(10):\n",
    "       s.run(v0.initializer)\n",
    "       v1.initializer.run() # other way to intialize variable\n",
    "       print(s.run([v0,v1,v5]))"
   ]
  },
  {
   "cell_type": "code",
   "execution_count": 10,
   "metadata": {},
   "outputs": [],
   "source": [
    "# We can change variable value using operations \n",
    "a=tf.constant(6.0)\n",
    "op1=v0.assign(7)\n",
    "op2=v1.assign(v1+4)\n",
    "op3=v5.assign(v5+a)"
   ]
  },
  {
   "cell_type": "code",
   "execution_count": 11,
   "metadata": {},
   "outputs": [
    {
     "name": "stdout",
     "output_type": "stream",
     "text": [
      "[7.0, 5.0, 6.295458]\n",
      "[7.0, 9.0, 12.295458]\n",
      "[7.0, 13.0, 18.295458]\n",
      "[7.0, 17.0, 24.295458]\n",
      "[7.0, 21.0, 30.295458]\n",
      "[7.0, 25.0, 36.295456]\n",
      "[7.0, 29.0, 42.295456]\n",
      "[7.0, 33.0, 48.295456]\n",
      "[7.0, 37.0, 54.295456]\n",
      "[7.0, 41.0, 60.295456]\n"
     ]
    }
   ],
   "source": [
    "with tf.Session() as s:\n",
    "    v0.initializer.run()   \n",
    "    v1.initializer.run()\n",
    "    v5.initializer.run()\n",
    "    for i in range(10):\n",
    "       print(s.run([op1,op2,op3]))"
   ]
  },
  {
   "cell_type": "code",
   "execution_count": 12,
   "metadata": {},
   "outputs": [
    {
     "ename": "ModuleNotFoundError",
     "evalue": "No module named 'sklearn'",
     "output_type": "error",
     "traceback": [
      "\u001b[0;31m---------------------------------------------------------------------------\u001b[0m",
      "\u001b[0;31mModuleNotFoundError\u001b[0m                       Traceback (most recent call last)",
      "\u001b[0;32m<ipython-input-12-6220872a2123>\u001b[0m in \u001b[0;36m<module>\u001b[0;34m\u001b[0m\n\u001b[0;32m----> 1\u001b[0;31m \u001b[0;32mfrom\u001b[0m \u001b[0msklearn\u001b[0m \u001b[0;32mimport\u001b[0m \u001b[0mdatasets\u001b[0m\u001b[0;34m\u001b[0m\u001b[0;34m\u001b[0m\u001b[0m\n\u001b[0m",
      "\u001b[0;31mModuleNotFoundError\u001b[0m: No module named 'sklearn'"
     ]
    }
   ],
   "source": [
    "from sklearn import datasets"
   ]
  },
  {
   "cell_type": "code",
   "execution_count": null,
   "metadata": {},
   "outputs": [],
   "source": []
  }
 ],
 "metadata": {
  "kernelspec": {
   "display_name": "Python 3",
   "language": "python",
   "name": "python3"
  },
  "language_info": {
   "codemirror_mode": {
    "name": "ipython",
    "version": 3
   },
   "file_extension": ".py",
   "mimetype": "text/x-python",
   "name": "python",
   "nbconvert_exporter": "python",
   "pygments_lexer": "ipython3",
   "version": "3.6.8"
  }
 },
 "nbformat": 4,
 "nbformat_minor": 2
}
