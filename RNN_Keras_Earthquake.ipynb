{
 "cells": [
  {
   "cell_type": "code",
   "execution_count": 1,
   "metadata": {},
   "outputs": [
    {
     "name": "stderr",
     "output_type": "stream",
     "text": [
      "Using TensorFlow backend.\n"
     ]
    }
   ],
   "source": [
    "import numpy as np\n",
    "import pandas as pd\n",
    "import matplotlib.pyplot as plt\n",
    "from keras.models import Sequential\n",
    "from keras.layers.core import Dense, Activation, Dropout\n",
    "from keras.layers.recurrent import LSTM\n",
    "from sklearn.model_selection import train_test_split\n",
    "from sklearn.preprocessing import MinMaxScaler\n",
    "from sklearn.metrics import mean_squared_error\n",
    "import math"
   ]
  },
  {
   "cell_type": "code",
   "execution_count": 2,
   "metadata": {},
   "outputs": [],
   "source": [
    "data=pd.read_csv('/Users/gauravtyagi/Downloads/data/LANL-Earthquake-Prediction/train.csv',nrows=50000)\n"
   ]
  },
  {
   "cell_type": "code",
   "execution_count": 3,
   "metadata": {},
   "outputs": [],
   "source": [
    "dataset = data.values\n",
    "dataset = data.astype('float32')"
   ]
  },
  {
   "cell_type": "code",
   "execution_count": 5,
   "metadata": {},
   "outputs": [],
   "source": [
    "# normalize the dataset\n",
    "scaler = MinMaxScaler()\n",
    "dataset = scaler.fit_transform(dataset)"
   ]
  },
  {
   "cell_type": "code",
   "execution_count": 6,
   "metadata": {},
   "outputs": [
    {
     "name": "stdout",
     "output_type": "stream",
     "text": [
      "33500 16500\n"
     ]
    }
   ],
   "source": [
    "# split into train and test sets\n",
    "train_size = int(len(dataset) * 0.67)\n",
    "test_size = len(dataset) - train_size\n",
    "train, test = dataset[0:train_size,:], dataset[train_size:len(dataset),:]\n",
    "print(len(train), len(test))"
   ]
  },
  {
   "cell_type": "code",
   "execution_count": 7,
   "metadata": {},
   "outputs": [],
   "source": [
    "# convert an array of values into a dataset matrix\n",
    "def create_dataset(dataset, look_back=1):\n",
    "\tdataX, dataY = [], []\n",
    "\tfor i in range(len(dataset)-look_back-1):\n",
    "\t\ta = dataset[i:(i+look_back), 0]\n",
    "\t\tdataX.append(a)\n",
    "\t\tdataY.append(dataset[i + look_back, 0])\n",
    "\treturn np.array(dataX), np.array(dataY)"
   ]
  },
  {
   "cell_type": "code",
   "execution_count": 8,
   "metadata": {},
   "outputs": [],
   "source": [
    "# reshape into X=t and Y=t+1\n",
    "look_back = 1\n",
    "trainX, trainY = create_dataset(train, look_back)\n",
    "testX, testY = create_dataset(test, look_back)"
   ]
  },
  {
   "cell_type": "code",
   "execution_count": 9,
   "metadata": {},
   "outputs": [],
   "source": [
    "# reshape input to be [samples, time steps, features]\n",
    "trainX = np.reshape(trainX, (trainX.shape[0], 1, trainX.shape[1]))\n",
    "testX = np.reshape(testX, (testX.shape[0], 1, testX.shape[1]))"
   ]
  },
  {
   "cell_type": "code",
   "execution_count": 10,
   "metadata": {},
   "outputs": [
    {
     "name": "stdout",
     "output_type": "stream",
     "text": [
      "Epoch 1/100\n",
      " - 102s - loss: 0.0010\n",
      "Epoch 2/100\n",
      " - 99s - loss: 3.5981e-04\n",
      "Epoch 3/100\n",
      " - 100s - loss: 3.5964e-04\n",
      "Epoch 4/100\n",
      " - 98s - loss: 3.5396e-04\n",
      "Epoch 5/100\n",
      " - 100s - loss: 3.5337e-04\n",
      "Epoch 6/100\n",
      " - 99s - loss: 3.5298e-04\n",
      "Epoch 7/100\n",
      " - 99s - loss: 3.5268e-04\n",
      "Epoch 8/100\n",
      " - 99s - loss: 3.5161e-04\n",
      "Epoch 9/100\n",
      " - 99s - loss: 3.5172e-04\n",
      "Epoch 10/100\n",
      " - 99s - loss: 3.4933e-04\n",
      "Epoch 11/100\n",
      " - 99s - loss: 3.4816e-04\n",
      "Epoch 12/100\n",
      " - 99s - loss: 3.4947e-04\n",
      "Epoch 13/100\n",
      " - 99s - loss: 3.4956e-04\n",
      "Epoch 14/100\n",
      " - 99s - loss: 3.4639e-04\n",
      "Epoch 15/100\n",
      " - 99s - loss: 3.4623e-04\n",
      "Epoch 16/100\n",
      " - 99s - loss: 3.4571e-04\n",
      "Epoch 17/100\n",
      " - 99s - loss: 3.4478e-04\n",
      "Epoch 18/100\n",
      " - 100s - loss: 3.4443e-04\n",
      "Epoch 19/100\n",
      " - 101s - loss: 3.4326e-04\n",
      "Epoch 20/100\n",
      " - 103s - loss: 3.4231e-04\n",
      "Epoch 21/100\n",
      " - 101s - loss: 3.4262e-04\n",
      "Epoch 22/100\n",
      " - 103s - loss: 3.4210e-04\n",
      "Epoch 23/100\n",
      " - 104s - loss: 3.4231e-04\n",
      "Epoch 24/100\n",
      " - 101s - loss: 3.4207e-04\n",
      "Epoch 25/100\n",
      " - 103s - loss: 3.4134e-04\n",
      "Epoch 26/100\n",
      " - 99s - loss: 3.4025e-04\n",
      "Epoch 27/100\n",
      " - 99s - loss: 3.4043e-04\n",
      "Epoch 28/100\n",
      " - 99s - loss: 3.3982e-04\n",
      "Epoch 29/100\n",
      " - 99s - loss: 3.4014e-04\n",
      "Epoch 30/100\n",
      " - 100s - loss: 3.4057e-04\n",
      "Epoch 31/100\n",
      " - 100s - loss: 3.3785e-04\n",
      "Epoch 32/100\n",
      " - 99s - loss: 3.3758e-04\n",
      "Epoch 33/100\n",
      " - 106s - loss: 3.3699e-04\n",
      "Epoch 34/100\n",
      " - 106s - loss: 3.3776e-04\n",
      "Epoch 35/100\n",
      " - 103s - loss: 3.3701e-04\n",
      "Epoch 36/100\n",
      " - 102s - loss: 3.3628e-04\n",
      "Epoch 37/100\n",
      " - 102s - loss: 3.3641e-04\n",
      "Epoch 38/100\n",
      " - 102s - loss: 3.3799e-04\n",
      "Epoch 39/100\n",
      " - 102s - loss: 3.3711e-04\n",
      "Epoch 40/100\n",
      " - 103s - loss: 3.3541e-04\n",
      "Epoch 41/100\n",
      " - 102s - loss: 3.3624e-04\n",
      "Epoch 42/100\n",
      " - 102s - loss: 3.3662e-04\n",
      "Epoch 43/100\n",
      " - 102s - loss: 3.3649e-04\n",
      "Epoch 44/100\n",
      " - 102s - loss: 3.3567e-04\n",
      "Epoch 45/100\n",
      " - 102s - loss: 3.3552e-04\n",
      "Epoch 46/100\n",
      " - 102s - loss: 3.3562e-04\n",
      "Epoch 47/100\n",
      " - 102s - loss: 3.3595e-04\n",
      "Epoch 48/100\n",
      " - 102s - loss: 3.3521e-04\n",
      "Epoch 49/100\n",
      " - 105s - loss: 3.3364e-04\n",
      "Epoch 50/100\n",
      " - 105s - loss: 3.3403e-04\n",
      "Epoch 51/100\n",
      " - 105s - loss: 3.3564e-04\n",
      "Epoch 52/100\n",
      " - 105s - loss: 3.3336e-04\n",
      "Epoch 53/100\n",
      " - 105s - loss: 3.3442e-04\n",
      "Epoch 54/100\n",
      " - 106s - loss: 3.3393e-04\n",
      "Epoch 55/100\n",
      " - 105s - loss: 3.3455e-04\n",
      "Epoch 56/100\n",
      " - 104s - loss: 3.3379e-04\n",
      "Epoch 57/100\n",
      " - 104s - loss: 3.3355e-04\n",
      "Epoch 58/100\n",
      " - 103s - loss: 3.3387e-04\n",
      "Epoch 59/100\n",
      " - 104s - loss: 3.3367e-04\n",
      "Epoch 60/100\n",
      " - 104s - loss: 3.3333e-04\n",
      "Epoch 61/100\n",
      " - 108s - loss: 3.3400e-04\n",
      "Epoch 62/100\n",
      " - 109s - loss: 3.3376e-04\n",
      "Epoch 63/100\n",
      " - 104s - loss: 3.3369e-04\n",
      "Epoch 64/100\n",
      " - 105s - loss: 3.3327e-04\n",
      "Epoch 65/100\n",
      " - 104s - loss: 3.3305e-04\n",
      "Epoch 66/100\n",
      " - 103s - loss: 3.3263e-04\n",
      "Epoch 67/100\n",
      " - 104s - loss: 3.3159e-04\n",
      "Epoch 68/100\n",
      " - 104s - loss: 3.3209e-04\n",
      "Epoch 69/100\n",
      " - 101s - loss: 3.3242e-04\n",
      "Epoch 70/100\n",
      " - 109s - loss: 3.3135e-04\n",
      "Epoch 71/100\n",
      " - 106s - loss: 3.3316e-04\n",
      "Epoch 72/100\n",
      " - 104s - loss: 3.3163e-04\n",
      "Epoch 73/100\n",
      " - 104s - loss: 3.3171e-04\n",
      "Epoch 74/100\n",
      " - 100s - loss: 3.3141e-04\n",
      "Epoch 75/100\n",
      " - 100s - loss: 3.3110e-04\n",
      "Epoch 76/100\n",
      " - 101s - loss: 3.3276e-04\n",
      "Epoch 77/100\n",
      " - 100s - loss: 3.3190e-04\n",
      "Epoch 78/100\n",
      " - 102s - loss: 3.3164e-04\n",
      "Epoch 79/100\n",
      " - 101s - loss: 3.3164e-04\n",
      "Epoch 80/100\n",
      " - 102s - loss: 3.3168e-04\n",
      "Epoch 81/100\n",
      " - 101s - loss: 3.3112e-04\n",
      "Epoch 82/100\n",
      " - 100s - loss: 3.3083e-04\n",
      "Epoch 83/100\n",
      " - 101s - loss: 3.3167e-04\n",
      "Epoch 84/100\n",
      " - 102s - loss: 3.3150e-04\n",
      "Epoch 85/100\n",
      " - 100s - loss: 3.3113e-04\n",
      "Epoch 86/100\n",
      " - 100s - loss: 3.3096e-04\n",
      "Epoch 87/100\n",
      " - 103s - loss: 3.3166e-04\n",
      "Epoch 88/100\n",
      " - 101s - loss: 3.3056e-04\n",
      "Epoch 89/100\n",
      " - 100s - loss: 3.3061e-04\n",
      "Epoch 90/100\n",
      " - 100s - loss: 3.3132e-04\n",
      "Epoch 91/100\n",
      " - 102s - loss: 3.3122e-04\n",
      "Epoch 92/100\n",
      " - 100s - loss: 3.3114e-04\n",
      "Epoch 93/100\n",
      " - 100s - loss: 3.3100e-04\n",
      "Epoch 94/100\n",
      " - 101s - loss: 3.3156e-04\n",
      "Epoch 95/100\n",
      " - 100s - loss: 3.3096e-04\n",
      "Epoch 96/100\n",
      " - 102s - loss: 3.3018e-04\n",
      "Epoch 97/100\n",
      " - 100s - loss: 3.3154e-04\n",
      "Epoch 98/100\n",
      " - 100s - loss: 3.3073e-04\n",
      "Epoch 99/100\n",
      " - 100s - loss: 3.3120e-04\n",
      "Epoch 100/100\n",
      " - 101s - loss: 3.3174e-04\n"
     ]
    },
    {
     "data": {
      "text/plain": [
       "<keras.callbacks.History at 0x1197801d0>"
      ]
     },
     "execution_count": 10,
     "metadata": {},
     "output_type": "execute_result"
    }
   ],
   "source": [
    "# create and fit the LSTM network\n",
    "model = Sequential()\n",
    "model.add(LSTM(4, input_shape=(1, look_back)))\n",
    "model.add(Dense(1))\n",
    "model.compile(loss='mean_squared_error', optimizer='adam')\n",
    "model.fit(trainX, trainY, epochs=100, batch_size=1, verbose=2)"
   ]
  },
  {
   "cell_type": "code",
   "execution_count": 11,
   "metadata": {},
   "outputs": [
    {
     "name": "stdout",
     "output_type": "stream",
     "text": [
      "Saved model to disk\n"
     ]
    }
   ],
   "source": [
    "# serialize model to JSON\n",
    "model_json = model.to_json()\n",
    "with open(\"model.json\", \"w\") as json_file:\n",
    "    json_file.write(model_json)\n",
    "# serialize weights to HDF5\n",
    "model.save_weights(\"model.h5\")\n",
    "print(\"Saved model to disk\")"
   ]
  },
  {
   "cell_type": "code",
   "execution_count": 1,
   "metadata": {},
   "outputs": [
    {
     "ename": "NameError",
     "evalue": "name 'model' is not defined",
     "output_type": "error",
     "traceback": [
      "\u001b[0;31m---------------------------------------------------------------------------\u001b[0m",
      "\u001b[0;31mNameError\u001b[0m                                 Traceback (most recent call last)",
      "\u001b[0;32m<ipython-input-1-bc8a19992d82>\u001b[0m in \u001b[0;36m<module>\u001b[0;34m\u001b[0m\n\u001b[1;32m      1\u001b[0m \u001b[0;31m# make predictions\u001b[0m\u001b[0;34m\u001b[0m\u001b[0;34m\u001b[0m\u001b[0;34m\u001b[0m\u001b[0m\n\u001b[0;32m----> 2\u001b[0;31m \u001b[0mtrainPredict\u001b[0m \u001b[0;34m=\u001b[0m \u001b[0mmodel\u001b[0m\u001b[0;34m.\u001b[0m\u001b[0mpredict\u001b[0m\u001b[0;34m(\u001b[0m\u001b[0mtrainX\u001b[0m\u001b[0;34m)\u001b[0m\u001b[0;34m\u001b[0m\u001b[0;34m\u001b[0m\u001b[0m\n\u001b[0m\u001b[1;32m      3\u001b[0m \u001b[0mtestPredict\u001b[0m \u001b[0;34m=\u001b[0m \u001b[0mmodel\u001b[0m\u001b[0;34m.\u001b[0m\u001b[0mpredict\u001b[0m\u001b[0;34m(\u001b[0m\u001b[0mtestX\u001b[0m\u001b[0;34m)\u001b[0m\u001b[0;34m\u001b[0m\u001b[0;34m\u001b[0m\u001b[0m\n\u001b[1;32m      4\u001b[0m \u001b[0;31m# invert predictions\u001b[0m\u001b[0;34m\u001b[0m\u001b[0;34m\u001b[0m\u001b[0;34m\u001b[0m\u001b[0m\n\u001b[1;32m      5\u001b[0m \u001b[0mtrainPredict\u001b[0m \u001b[0;34m=\u001b[0m \u001b[0mscaler\u001b[0m\u001b[0;34m.\u001b[0m\u001b[0minverse_transform\u001b[0m\u001b[0;34m(\u001b[0m\u001b[0mtrainPredict\u001b[0m\u001b[0;34m)\u001b[0m\u001b[0;34m\u001b[0m\u001b[0;34m\u001b[0m\u001b[0m\n",
      "\u001b[0;31mNameError\u001b[0m: name 'model' is not defined"
     ]
    }
   ],
   "source": [
    "# make predictions\n",
    "trainPredict = model.predict(trainX)\n",
    "testPredict = model.predict(testX)\n",
    "# invert predictions\n",
    "trainPredict = scaler.inverse_transform(trainPredict)\n",
    "trainY = scaler.inverse_transform([trainY])\n",
    "testPredict = scaler.inverse_transform(testPredict)\n",
    "testY = scaler.inverse_transform([testY])\n",
    "# calculate root mean squared error\n",
    "trainScore = math.sqrt(mean_squared_error(trainY[0], trainPredict[:,0]))\n",
    "print('Train Score: %.2f RMSE' % (trainScore))\n",
    "testScore = math.sqrt(mean_squared_error(testY[0], testPredict[:,0]))\n",
    "print('Test Score: %.2f RMSE' % (testScore))"
   ]
  },
  {
   "cell_type": "code",
   "execution_count": null,
   "metadata": {},
   "outputs": [],
   "source": [
    "# shift train predictions for plotting\n",
    "trainPredictPlot = np.empty_like(dataset)\n",
    "trainPredictPlot[:, :] = np.nan\n",
    "trainPredictPlot[look_back:len(trainPredict)+look_back, :] = trainPredict\n",
    "# shift test predictions for plotting\n",
    "testPredictPlot = np.empty_like(dataset)\n",
    "testPredictPlot[:, :] = np.nan\n",
    "testPredictPlot[len(trainPredict)+(look_back*2)+1:len(dataset)-1, :] = testPredict\n",
    "# plot baseline and predictions\n",
    "plt.plot(scaler.inverse_transform(dataset))\n",
    "plt.plot(trainPredictPlot)\n",
    "plt.plot(testPredictPlot)\n",
    "plt.show()"
   ]
  },
  {
   "cell_type": "code",
   "execution_count": null,
   "metadata": {},
   "outputs": [],
   "source": [
    "#hjbkdkjaeshfkjas"
   ]
  }
 ],
 "metadata": {
  "kernelspec": {
   "display_name": "Python 3",
   "language": "python",
   "name": "python3"
  },
  "language_info": {
   "codemirror_mode": {
    "name": "ipython",
    "version": 3
   },
   "file_extension": ".py",
   "mimetype": "text/x-python",
   "name": "python",
   "nbconvert_exporter": "python",
   "pygments_lexer": "ipython3",
   "version": "3.6.8"
  }
 },
 "nbformat": 4,
 "nbformat_minor": 2
}
